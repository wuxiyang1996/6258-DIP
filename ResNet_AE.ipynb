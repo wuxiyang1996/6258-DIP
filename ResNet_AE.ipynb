{
  "nbformat": 4,
  "nbformat_minor": 0,
  "metadata": {
    "colab": {
      "name": "ResNet_AE.ipynb",
      "provenance": [],
      "collapsed_sections": [],
      "toc_visible": true,
      "include_colab_link": true
    },
    "kernelspec": {
      "name": "python3",
      "display_name": "Python 3"
    },
    "accelerator": "GPU"
  },
  "cells": [
    {
      "cell_type": "markdown",
      "metadata": {
        "id": "view-in-github",
        "colab_type": "text"
      },
      "source": [
        "<a href=\"https://colab.research.google.com/github/xwu391/6258-DIP/blob/master/ResNet_AE.ipynb\" target=\"_parent\"><img src=\"https://colab.research.google.com/assets/colab-badge.svg\" alt=\"Open In Colab\"/></a>"
      ]
    },
    {
      "cell_type": "code",
      "metadata": {
        "id": "RO3UFRAML0JU",
        "colab_type": "code",
        "colab": {
          "base_uri": "https://localhost:8080/",
          "height": 341
        },
        "outputId": "7feb8bda-09ae-4694-d3fc-b1cebe7b06f5"
      },
      "source": [
        "pip install dippykit"
      ],
      "execution_count": null,
      "outputs": [
        {
          "output_type": "stream",
          "text": [
            "Requirement already satisfied: dippykit in /usr/local/lib/python3.6/dist-packages (2.0.3)\n",
            "Requirement already satisfied: matplotlib in /usr/local/lib/python3.6/dist-packages (from dippykit) (3.1.2)\n",
            "Requirement already satisfied: scipy in /usr/local/lib/python3.6/dist-packages (from dippykit) (1.3.3)\n",
            "Requirement already satisfied: Pillow in /usr/local/lib/python3.6/dist-packages (from dippykit) (4.3.0)\n",
            "Requirement already satisfied: opencv-python in /usr/local/lib/python3.6/dist-packages (from dippykit) (4.1.2.30)\n",
            "Requirement already satisfied: scikit-image in /usr/local/lib/python3.6/dist-packages (from dippykit) (0.15.0)\n",
            "Requirement already satisfied: numpy in /usr/local/lib/python3.6/dist-packages (from dippykit) (1.17.4)\n",
            "Requirement already satisfied: pyparsing!=2.0.4,!=2.1.2,!=2.1.6,>=2.0.1 in /usr/local/lib/python3.6/dist-packages (from matplotlib->dippykit) (2.4.5)\n",
            "Requirement already satisfied: cycler>=0.10 in /usr/local/lib/python3.6/dist-packages (from matplotlib->dippykit) (0.10.0)\n",
            "Requirement already satisfied: python-dateutil>=2.1 in /usr/local/lib/python3.6/dist-packages (from matplotlib->dippykit) (2.6.1)\n",
            "Requirement already satisfied: kiwisolver>=1.0.1 in /usr/local/lib/python3.6/dist-packages (from matplotlib->dippykit) (1.1.0)\n",
            "Requirement already satisfied: olefile in /usr/local/lib/python3.6/dist-packages (from Pillow->dippykit) (0.46)\n",
            "Requirement already satisfied: PyWavelets>=0.4.0 in /usr/local/lib/python3.6/dist-packages (from scikit-image->dippykit) (1.1.1)\n",
            "Requirement already satisfied: imageio>=2.0.1 in /usr/local/lib/python3.6/dist-packages (from scikit-image->dippykit) (2.4.1)\n",
            "Requirement already satisfied: networkx>=2.0 in /usr/local/lib/python3.6/dist-packages (from scikit-image->dippykit) (2.4)\n",
            "Requirement already satisfied: six in /usr/local/lib/python3.6/dist-packages (from cycler>=0.10->matplotlib->dippykit) (1.12.0)\n",
            "Requirement already satisfied: setuptools in /usr/local/lib/python3.6/dist-packages (from kiwisolver>=1.0.1->matplotlib->dippykit) (42.0.1)\n",
            "Requirement already satisfied: decorator>=4.3.0 in /usr/local/lib/python3.6/dist-packages (from networkx>=2.0->scikit-image->dippykit) (4.4.1)\n"
          ],
          "name": "stdout"
        }
      ]
    },
    {
      "cell_type": "code",
      "metadata": {
        "id": "1cSwz4KlSlXL",
        "colab_type": "code",
        "colab": {}
      },
      "source": [
        "import random\n",
        "import numpy as np\n",
        "import torch\n",
        "import torchvision\n",
        "from  torch.autograd import Variable\n",
        "import torch.nn as nn\n",
        "import torch.nn.functional as F\n",
        "import torch.optim as optim\n",
        "from  torchvision import datasets, transforms\n",
        "import dippykit as dip\n",
        "from torchsummary import summary\n",
        "import os\n",
        "import skimage"
      ],
      "execution_count": null,
      "outputs": []
    },
    {
      "cell_type": "code",
      "metadata": {
        "id": "Sz3ne69xUKOB",
        "colab_type": "code",
        "colab": {}
      },
      "source": [
        "import warnings\n",
        "warnings.filterwarnings(\"ignore\")"
      ],
      "execution_count": null,
      "outputs": []
    },
    {
      "cell_type": "code",
      "metadata": {
        "id": "Ega7w_FB6mRS",
        "colab_type": "code",
        "colab": {
          "base_uri": "https://localhost:8080/",
          "height": 71
        },
        "outputId": "71626ef9-e991-4154-f1fb-f3f495827440"
      },
      "source": [
        "from google.colab import drive\n",
        "drive.mount('/content/drive')\n",
        "%cd drive/My\\ Drive"
      ],
      "execution_count": null,
      "outputs": [
        {
          "output_type": "stream",
          "text": [
            "Drive already mounted at /content/drive; to attempt to forcibly remount, call drive.mount(\"/content/drive\", force_remount=True).\n",
            "[Errno 2] No such file or directory: 'drive/My Drive'\n",
            "/content/drive/My Drive\n"
          ],
          "name": "stdout"
        }
      ]
    },
    {
      "cell_type": "code",
      "metadata": {
        "id": "MYEmBtGiGJ2Q",
        "colab_type": "code",
        "colab": {}
      },
      "source": [
        "def Make_Layer(inchannel, outchannel, Unit_Num):\n",
        "  shortcut = nn.Conv2d(in_channels=inchannel, out_channels=outchannel, kernel_size=1, stride=1)\n",
        "  Block_Layer = []\n",
        "  for i in range(Unit_Num):\n",
        "    Block_Layer.append(Residual_Block_Unit(64, 64, None))\n",
        "  return nn.Sequential(*Block_Layer)\n",
        "\n",
        "def Res_Layers(inchannel, outchannel, Block_Num):\n",
        "  shortcut = nn.Conv2d(in_channels=inchannel, out_channels=outchannel, kernel_size=1, stride=1)\n",
        "  Res_Layer = []\n",
        "  for i in range(Block_Num):\n",
        "    Res_Layer.append(Residual_Block(64, 64, None))\n",
        "  Res_Layer.append(Residual_Block_Unit(64, 64, None))\n",
        "  return nn.Sequential(*Res_Layer)\n",
        "\n",
        "def Heat_Map_Maker(inchannel, outchannel, Unit_Num):\n",
        "  shortcut = nn.Conv2d(in_channels=inchannel, out_channels=outchannel, kernel_size=1, stride=1)\n",
        "  Map_Layer = []\n",
        "  for i in range(Unit_Num):\n",
        "    Map_Layer.append(Residual_Block_Unit(4, 4, None))\n",
        "  return nn.Sequential(*Map_Layer)"
      ],
      "execution_count": null,
      "outputs": []
    },
    {
      "cell_type": "code",
      "metadata": {
        "id": "t49uDD9oEqLX",
        "colab_type": "code",
        "colab": {}
      },
      "source": [
        "class Residual_Block_Unit(nn.Module):\n",
        "  def __init__(self, inchannel, outchannel, shortcut=None):\n",
        "    super(Residual_Block_Unit, self).__init__()\n",
        "    self.Unit_Left = nn.Sequential(\n",
        "        nn.Conv2d(in_channels=inchannel, out_channels=outchannel, kernel_size=3, stride=1, padding=1), \n",
        "        nn.BatchNorm2d(outchannel),\n",
        "        nn.ReLU(inplace=True),\n",
        "        nn.Conv2d(in_channels=inchannel, out_channels=outchannel, kernel_size=3, stride=1, padding=1), \n",
        "        nn.BatchNorm2d(outchannel),\n",
        "        nn.ReLU(inplace=True)\n",
        "    )\n",
        "\n",
        "    self.Unit_Right = shortcut\n",
        "\n",
        "  def forward(self, input_im):\n",
        "    out = self.Unit_Left(input_im)\n",
        "    bypass = input_im if self.Unit_Right is None else self.Unit_Right(x)\n",
        "    out = out + bypass\n",
        "    return F.relu(out)"
      ],
      "execution_count": null,
      "outputs": []
    },
    {
      "cell_type": "code",
      "metadata": {
        "colab_type": "code",
        "id": "hK3NIhAdWEZT",
        "colab": {}
      },
      "source": [
        "class Residual_Block(nn.Module):\n",
        "  def __init__(self, inchannel, outchannel, shortcut=None):\n",
        "    super(Residual_Block, self).__init__()\n",
        "    self.Block_Left = Make_Layer(64, 64, 3)\n",
        "    self.Block_Right = shortcut\n",
        "\n",
        "  def forward(self, input_im):\n",
        "    out = self.Block_Left(input_im)\n",
        "    bypass = input_im if self.Block_Right is None else self.Block_Right(x)\n",
        "    out = out + bypass\n",
        "    return F.relu(out)"
      ],
      "execution_count": null,
      "outputs": []
    },
    {
      "cell_type": "code",
      "metadata": {
        "id": "eV0M29WpDeCW",
        "colab_type": "code",
        "colab": {}
      },
      "source": [
        "class ResNet_AE(nn.Module):\n",
        "  def __init__(self):\n",
        "    super(ResNet_AE, self).__init__()\n",
        "    self.Pre = nn.Sequential(\n",
        "        nn.Conv2d(in_channels=1, out_channels=64, kernel_size=5, stride=2, padding=2),\n",
        "        nn.BatchNorm2d(64),\n",
        "        nn.ReLU(inplace=True),\n",
        "        nn.Conv2d(in_channels=64, out_channels=64, kernel_size=5, stride=2, padding=2),\n",
        "        nn.BatchNorm2d(64),\n",
        "        nn.ReLU(inplace=True)\n",
        "    )\n",
        "\n",
        "    self.Res_Part_En = Res_Layers(64, 64, 2)\n",
        "    self.Res_Part_Shortcut_En = nn.Conv2d(in_channels=64, out_channels=64, kernel_size=1, stride=1)\n",
        "    self.Res_Encoder_Output = nn.Conv2d(in_channels=64, out_channels=4, kernel_size=5, stride=2, padding=2)\n",
        "\n",
        "    self.Heat_Map_Layer = Heat_Map_Maker(4, 4, 1)\n",
        "\n",
        "    self.Res_Decoder_Input = nn.ConvTranspose2d(in_channels=4, out_channels=64, kernel_size=4, stride=2, padding=1)\n",
        "    self.Res_Part_De = Res_Layers(64, 64, 2)\n",
        "    self.Res_Part_Shortcut_De = nn.Conv2d(in_channels=64, out_channels=64, kernel_size=1, stride=1)\n",
        "\n",
        "    self.After = nn.Sequential(\n",
        "        nn.ConvTranspose2d(in_channels=64, out_channels=64, kernel_size=4, stride=2, padding=1),\n",
        "        nn.BatchNorm2d(64),\n",
        "        nn.ReLU(inplace=True),\n",
        "        nn.ConvTranspose2d(in_channels=64, out_channels=1, kernel_size=4, stride=2, padding=1),\n",
        "        nn.BatchNorm2d(1)\n",
        "    ) \n",
        "\n",
        "  def Encoder(self, input_im):\n",
        "    x_in = self.Pre(input_im)\n",
        "    x_Left_En = self.Res_Part_En(x_in)\n",
        "    x_Right_En = x_in if self.Res_Part_Shortcut_En is None else self.Res_Part_Shortcut_En(x_in)\n",
        "    x = x_Left_En + x_Right_En\n",
        "    x = F.relu(x)\n",
        "    x = self.Res_Encoder_Output(x)\n",
        "    x = F.sigmoid(x)\n",
        "    return x\n",
        "\n",
        "  def Importance_Map(self, input_im):\n",
        "    Importance_Extracted = self.Heat_Map_Layer(input_im)\n",
        "    Importance_Extracted = F.sigmoid(Importance_Extracted)\n",
        "    with torch.no_grad():\n",
        "   #   Expo_Map = torch.ones(Importance_Extracted.shape)\n",
        "   #   Expo_Map = torch.mul(Expo_Map, 4)\n",
        "      Quant_im = self.Hard_Quantizer(input_im, 6)\n",
        "      Imp_Map = self.Hard_Quantizer(Importance_Extracted, 3)\n",
        "      Imp_Map = torch.sub(Imp_Map, 3)\n",
        "      Expos = torch.pow(2, Imp_Map)\n",
        "      Code_Map = torch.mul(Expos, Quant_im)\n",
        "      Code_Map = torch.div(torch.floor(Code_Map), 64)\n",
        "    return Code_Map\n",
        "\n",
        "  def Hard_Quantizer(self, input_im, bits_Num):\n",
        "    out = torch.mul(input_im, 2**bits_Num)\n",
        "    out = torch.floor(out)\n",
        "    return out\n",
        "\n",
        "  def Decoder(self, input_im):\n",
        "    x = self.Res_Decoder_Input(input_im)\n",
        "    x = F.relu(x)\n",
        "    x_Left_De = self.Res_Part_De(x)\n",
        "    x_Right_De = x if self.Res_Part_Shortcut_De is None else self.Res_Part_Shortcut_De(x)\n",
        "    x = x_Left_De + x_Right_De\n",
        "    x = F.relu(x)\n",
        "    x = self.After(x) \n",
        "  #  x = self.FSRCNN(x)\n",
        "  #  with torch.no_grad():\n",
        "  #    mean = [0.434, 0.443, 0.367]\n",
        "  #    std = [0.238, 0.223, 0.232]\n",
        "  #    t_mean = torch.FloatTensor(mean).view(3,1,1).expand(3, 32, 32).cuda()\n",
        "  #    t_std = torch.FloatTensor(std).view(3,1,1).expand(3, 32, 32).cuda()\n",
        "  #    x_out = torch.mul(x, t_std)\n",
        "  #    x_out = torch.add(x_out, t_mean)\n",
        "    return F.sigmoid(x)\n",
        "\n",
        "  def forward(self, input_im):\n",
        "    Code = self.Encoder(input_im)\n",
        "    Code_Map = self.Importance_Map(Code)\n",
        "    recover = self.Decoder(Code)\n",
        "    return recover, Code\n"
      ],
      "execution_count": null,
      "outputs": []
    },
    {
      "cell_type": "code",
      "metadata": {
        "id": "bDVi95tO4VuG",
        "colab_type": "code",
        "colab": {
          "base_uri": "https://localhost:8080/",
          "height": 299
        },
        "outputId": "522703e8-7f1c-47b6-baac-ee98b02c36a7"
      },
      "source": [
        "Pre_transfrom = transforms.Compose([\n",
        "        transforms.Resize((128,128)),\n",
        "        transforms.ToTensor(),\n",
        "    ])\n",
        "\n",
        "train_dataset = datasets.MNIST(root='./data/', train=True, transform=Pre_transfrom, download=True)\n",
        "test_dataset = datasets.MNIST(root='./data/', train=False, transform=Pre_transfrom)\n",
        "\n",
        "train_loader = torch.utils.data.DataLoader(train_dataset, shuffle=True, batch_size=100, num_workers=10, drop_last=True)\n",
        "test_loader = torch.utils.data.DataLoader(test_dataset, shuffle=True, batch_size=4, num_workers=4, drop_last=True)\n",
        "\n",
        "Res_AE = ResNet_AE().cuda()\n",
        "optimizer = optim.SGD(Res_AE.parameters(), lr=0.001, momentum=0.9)\n",
        "\n",
        "loss_function = nn.MSELoss()\n",
        "\n",
        "for epoch in range(2):\n",
        "  print(\"Epoch %d\" % epoch)\n",
        "\n",
        "  for i, (images, _) in enumerate(train_loader):\n",
        "    optimizer.zero_grad()\n",
        "    images = Variable(images.data, requires_grad = False).cuda()\n",
        "    recover, code_map = Res_AE(images)\n",
        "    zero_comp = torch.zeros(code_map.shape)\n",
        "  #  recover = Variable(recover.data, requires_grad = True).cuda()\n",
        "    loss = loss_function(recover, images)\n",
        "    \n",
        "    loss.backward()\n",
        "    optimizer.step()        \n",
        "        \n",
        "  print(\"Loss = %.5f\" % loss.item()) \n",
        "  if (epoch%20==0):\n",
        "    torch.save(Res_AE, 'Res_AE_48.pkl')\n",
        "\n",
        "print('Finished Training')\n"
      ],
      "execution_count": null,
      "outputs": [
        {
          "output_type": "stream",
          "text": [
            "Epoch 0\n",
            "Loss = 0.05607\n",
            "Epoch 1\n"
          ],
          "name": "stdout"
        },
        {
          "output_type": "error",
          "ename": "KeyboardInterrupt",
          "evalue": "ignored",
          "traceback": [
            "\u001b[0;31m---------------------------------------------------------------------------\u001b[0m",
            "\u001b[0;31mKeyboardInterrupt\u001b[0m                         Traceback (most recent call last)",
            "\u001b[0;32m<ipython-input-23-fe9685e181cb>\u001b[0m in \u001b[0;36m<module>\u001b[0;34m()\u001b[0m\n\u001b[1;32m     20\u001b[0m   \u001b[0;32mfor\u001b[0m \u001b[0mi\u001b[0m\u001b[0;34m,\u001b[0m \u001b[0;34m(\u001b[0m\u001b[0mimages\u001b[0m\u001b[0;34m,\u001b[0m \u001b[0m_\u001b[0m\u001b[0;34m)\u001b[0m \u001b[0;32min\u001b[0m \u001b[0menumerate\u001b[0m\u001b[0;34m(\u001b[0m\u001b[0mtrain_loader\u001b[0m\u001b[0;34m)\u001b[0m\u001b[0;34m:\u001b[0m\u001b[0;34m\u001b[0m\u001b[0;34m\u001b[0m\u001b[0m\n\u001b[1;32m     21\u001b[0m     \u001b[0moptimizer\u001b[0m\u001b[0;34m.\u001b[0m\u001b[0mzero_grad\u001b[0m\u001b[0;34m(\u001b[0m\u001b[0;34m)\u001b[0m\u001b[0;34m\u001b[0m\u001b[0;34m\u001b[0m\u001b[0m\n\u001b[0;32m---> 22\u001b[0;31m     \u001b[0mimages\u001b[0m \u001b[0;34m=\u001b[0m \u001b[0mVariable\u001b[0m\u001b[0;34m(\u001b[0m\u001b[0mimages\u001b[0m\u001b[0;34m.\u001b[0m\u001b[0mdata\u001b[0m\u001b[0;34m,\u001b[0m \u001b[0mrequires_grad\u001b[0m \u001b[0;34m=\u001b[0m \u001b[0;32mFalse\u001b[0m\u001b[0;34m)\u001b[0m\u001b[0;34m.\u001b[0m\u001b[0mcuda\u001b[0m\u001b[0;34m(\u001b[0m\u001b[0;34m)\u001b[0m\u001b[0;34m\u001b[0m\u001b[0;34m\u001b[0m\u001b[0m\n\u001b[0m\u001b[1;32m     23\u001b[0m     \u001b[0mrecover\u001b[0m\u001b[0;34m,\u001b[0m \u001b[0mcode_map\u001b[0m \u001b[0;34m=\u001b[0m \u001b[0mRes_AE\u001b[0m\u001b[0;34m(\u001b[0m\u001b[0mimages\u001b[0m\u001b[0;34m)\u001b[0m\u001b[0;34m\u001b[0m\u001b[0;34m\u001b[0m\u001b[0m\n\u001b[1;32m     24\u001b[0m     \u001b[0mzero_comp\u001b[0m \u001b[0;34m=\u001b[0m \u001b[0mtorch\u001b[0m\u001b[0;34m.\u001b[0m\u001b[0mzeros\u001b[0m\u001b[0;34m(\u001b[0m\u001b[0mcode_map\u001b[0m\u001b[0;34m.\u001b[0m\u001b[0mshape\u001b[0m\u001b[0;34m)\u001b[0m\u001b[0;34m\u001b[0m\u001b[0;34m\u001b[0m\u001b[0m\n",
            "\u001b[0;31mKeyboardInterrupt\u001b[0m: "
          ]
        }
      ]
    },
    {
      "cell_type": "code",
      "metadata": {
        "id": "753rbMvpDwzu",
        "colab_type": "code",
        "colab": {}
      },
      "source": [
        "import matplotlib.pyplot as plt\n",
        "\n",
        "Res_AE = torch.load('Res_AE_48.pkl')\n",
        "\n",
        "Pre_transfrom = transforms.Compose([\n",
        "        transforms.Resize((128,128)),\n",
        "        transforms.Grayscale(),\n",
        "        transforms.ToTensor(),\n",
        "    ])\n",
        "\n",
        "test_dataset = datasets.ImageFolder(root='test/', transform=Pre_transfrom)\n",
        "\n",
        "test_loader = torch.utils.data.DataLoader(test_dataset, shuffle=False, batch_size=1, num_workers=1, drop_last=True)\n",
        "\n",
        "for i, (images, _) in enumerate(test_loader):\n",
        "    images = Variable(images).cuda()\n",
        "    recover, code = Res_AE(images)\n",
        "    torchvision.utils.save_image(recover.data, 'Res_Rec49' + str(i) + '.png')"
      ],
      "execution_count": null,
      "outputs": []
    },
    {
      "cell_type": "code",
      "metadata": {
        "id": "kNWN_0ANNLaO",
        "colab_type": "code",
        "colab": {
          "base_uri": "https://localhost:8080/",
          "height": 263
        },
        "outputId": "8f7fdc69-8f35-4e27-94fc-d7a34224e3c0"
      },
      "source": [
        "import dippykit as dip\n",
        "print(code.shape)\n",
        "code1 = torch.mul(code, 64).reshape(64, 64)\n",
        "print(code1)\n",
        "\n",
        "code1 = torch.round(code1).reshape(64*64).cpu().detach().numpy()\n",
        "code2 = np.zeros(256*16, dtype=int);\n",
        "for i in range(256*16):\n",
        "  code2[i] = int(code1[i])\n",
        "img_en, stream_length, _, _ = dip.huffman_encode(code2)\n",
        "print(img_en)\n",
        "print(stream_length)"
      ],
      "execution_count": null,
      "outputs": [
        {
          "output_type": "stream",
          "text": [
            "torch.Size([1, 4, 16, 16])\n"
          ],
          "name": "stdout"
        },
        {
          "output_type": "error",
          "ename": "RuntimeError",
          "evalue": "ignored",
          "traceback": [
            "\u001b[0;31m---------------------------------------------------------------------------\u001b[0m",
            "\u001b[0;31mRuntimeError\u001b[0m                              Traceback (most recent call last)",
            "\u001b[0;32m<ipython-input-27-a7f34f6b1318>\u001b[0m in \u001b[0;36m<module>\u001b[0;34m()\u001b[0m\n\u001b[1;32m      1\u001b[0m \u001b[0;32mimport\u001b[0m \u001b[0mdippykit\u001b[0m \u001b[0;32mas\u001b[0m \u001b[0mdip\u001b[0m\u001b[0;34m\u001b[0m\u001b[0;34m\u001b[0m\u001b[0m\n\u001b[1;32m      2\u001b[0m \u001b[0mprint\u001b[0m\u001b[0;34m(\u001b[0m\u001b[0mcode\u001b[0m\u001b[0;34m.\u001b[0m\u001b[0mshape\u001b[0m\u001b[0;34m)\u001b[0m\u001b[0;34m\u001b[0m\u001b[0;34m\u001b[0m\u001b[0m\n\u001b[0;32m----> 3\u001b[0;31m \u001b[0mcode1\u001b[0m \u001b[0;34m=\u001b[0m \u001b[0mtorch\u001b[0m\u001b[0;34m.\u001b[0m\u001b[0mmul\u001b[0m\u001b[0;34m(\u001b[0m\u001b[0mcode\u001b[0m\u001b[0;34m,\u001b[0m \u001b[0;36m64\u001b[0m\u001b[0;34m)\u001b[0m\u001b[0;34m.\u001b[0m\u001b[0mreshape\u001b[0m\u001b[0;34m(\u001b[0m\u001b[0;36m64\u001b[0m\u001b[0;34m,\u001b[0m \u001b[0;36m64\u001b[0m\u001b[0;34m)\u001b[0m\u001b[0;34m\u001b[0m\u001b[0;34m\u001b[0m\u001b[0m\n\u001b[0m\u001b[1;32m      4\u001b[0m \u001b[0mprint\u001b[0m\u001b[0;34m(\u001b[0m\u001b[0mcode1\u001b[0m\u001b[0;34m)\u001b[0m\u001b[0;34m\u001b[0m\u001b[0;34m\u001b[0m\u001b[0m\n\u001b[1;32m      5\u001b[0m \u001b[0;34m\u001b[0m\u001b[0m\n",
            "\u001b[0;31mRuntimeError\u001b[0m: shape '[64, 64]' is invalid for input of size 1024"
          ]
        }
      ]
    },
    {
      "cell_type": "markdown",
      "metadata": {
        "id": "nAPLRcagdHva",
        "colab_type": "text"
      },
      "source": [
        "# 新段落"
      ]
    }
  ]
}